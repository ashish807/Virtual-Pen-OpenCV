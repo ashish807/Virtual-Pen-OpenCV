{
 "cells": [
  {
   "cell_type": "markdown",
   "metadata": {},
   "source": [
    "This Project was completed using OpenCv only, If you hope to find Deep Learning and Machine Learning in this project then you won't find any!!!"
   ]
  },
  {
   "cell_type": "markdown",
   "metadata": {},
   "source": [
    "This Project was done using 6 steps:\n",
    "\n",
    "    \n",
    "1) Find the color range of the target object and save it\n",
    "\n",
    "2) Apply the correct morphological operation to reduce noise in the video\n",
    "\n",
    "3) Detect and track the colored object with contour detection.\n",
    "\n",
    "4) Find the object's x,y location coordinates to draw on the screen\n",
    "\n",
    "5) Add a Wiper Functionality to wipe off the Whole screen\n",
    "\n",
    "6) Add an Eraser Functionality to erase parts of the drawing"
   ]
  },
  {
   "cell_type": "markdown",
   "metadata": {},
   "source": [
    "Before moving on I strongly recommend you to check Edge detection, Countor Detection, BacgroundSubtractor and look how to find them in OpenCV and all the Parameteres they accept"
   ]
  },
  {
   "cell_type": "markdown",
   "metadata": {},
   "source": [
    "And do check about RBG, HSV"
   ]
  },
  {
   "cell_type": "markdown",
   "metadata": {},
   "source": [
    "Ok lets get Started!!!"
   ]
  }
 ],
 "metadata": {
  "kernelspec": {
   "display_name": "Python 3",
   "language": "python",
   "name": "python3"
  },
  "language_info": {
   "codemirror_mode": {
    "name": "ipython",
    "version": 3
   },
   "file_extension": ".py",
   "mimetype": "text/x-python",
   "name": "python",
   "nbconvert_exporter": "python",
   "pygments_lexer": "ipython3",
   "version": "3.7.6"
  }
 },
 "nbformat": 4,
 "nbformat_minor": 4
}
