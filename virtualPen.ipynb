{
 "cells": [
  {
   "cell_type": "markdown",
   "metadata": {},
   "source": [
    "This Project was completed using OpenCv only, If you hope to find Deep Learning and Machine Learning in this project then you won't find any!!!"
   ]
  },
  {
   "cell_type": "markdown",
   "metadata": {},
   "source": [
    "This Project was done using 6 steps:\n",
    "\n",
    "    \n",
    "1) Find the color range of the target object and save it\n",
    "\n",
    "2) Apply the correct morphological operation to reduce noise in the video\n",
    "\n",
    "3) Detect and track the colored object with contour detection.\n",
    "\n",
    "4) Find the object's x,y location coordinates to draw on the screen\n",
    "\n",
    "5) Add a Wiper Functionality to wipe off the Whole screen\n",
    "\n",
    "6) Add an Eraser Functionality to erase parts of the drawing"
   ]
  },
  {
   "cell_type": "markdown",
   "metadata": {},
   "source": [
    "Before moving on I strongly recommend you to check Edge detection, Countor Detection, BacgroundSubtractor and look how to find them in OpenCV and all the Parameteres they accept"
   ]
  },
  {
   "cell_type": "markdown",
   "metadata": {},
   "source": [
    "And do check about RBG, HSV"
   ]
  },
  {
   "cell_type": "markdown",
   "metadata": {},
   "source": [
    "Ok lets get Started!!!"
   ]
  },
  {
   "cell_type": "code",
   "execution_count": 1,
   "metadata": {},
   "outputs": [],
   "source": [
    "import cv2\n",
    "import numpy as np\n",
    "import time\n",
    "import matplotlib.pyplot as plt\n",
    "import time"
   ]
  },
  {
   "cell_type": "code",
   "execution_count": 2,
   "metadata": {},
   "outputs": [],
   "source": [
    "\n",
    "cap =cv2.VideoCapture(0)\n",
    "pen = cv2.resize(cv2.imread('images/pen.png',1), (50, 50)) #read and resize\n",
    "\n",
    "eraser = cv2.resize(cv2.imread('images/eraser.jpg',1), (50, 50)) # read and resize\n",
    "\n",
    "\n",
    "\n",
    "kernel= np.ones((5,5), np.uint8)\n",
    "cv2.namedWindow('image', cv2.WINDOW_NORMAL)\n",
    "backgroundobject = cv2.createBackgroundSubtractorMOG2(detectShadows = False) # This helps to toggle between Pen and Eraser\n",
    "background_threshold = 600\n",
    "switch = 'Pen'\n",
    "last_switch = time.time()\n",
    "\n",
    "write_on=None # Where we write\n",
    "x1,y1=0,0\n",
    "noise =500\n",
    "wiper_thresh =40000\n",
    "clear=False\n",
    "\n",
    "while(1):\n",
    "    _,frame =cap.read()\n",
    "    frame =cv2.flip(frame,1)\n",
    "    if write_on is None:\n",
    "        write_on= np.zeros_like(frame)\n",
    "    top_left = frame[0: 50, 0: 50] #top left of the screen or say frame\n",
    "\n",
    "    foregroundmask = backgroundobject.apply(top_left)\n",
    "    switch_thresh = np.sum(foregroundmask==255)\n",
    "    if switch_thresh>background_threshold  and (time.time()-last_switch)>1:\n",
    "        last_switch = time.time()\n",
    "        if switch =='Pen':\n",
    "            switch ='Eraser'\n",
    "        else:\n",
    "            switch = 'Pen'\n",
    "            \n",
    "    hsv = cv2.cvtColor(frame,cv2.COLOR_BGR2HSV)\n",
    "    \n",
    "    lower_range =np.array([0,157,59]) # You can set your own value by running sethsv.py file\n",
    "    upper_range=np.array([179,255,255])\n",
    "        \n",
    "        \n",
    "    mask = cv2.inRange(hsv, lower_range, upper_range)\n",
    "    mask=cv2.erode(mask, kernel, iterations =1)# Please do set your iteration and kernel\n",
    "    mask= cv2.dilate(mask, kernel,iterations=2)\n",
    "    \n",
    "    retval, contours, hierarchy = cv2.findContours(mask, cv2.RETR_TREE,cv2.CHAIN_APPROX_SIMPLE)\n",
    "    \n",
    "    if contours and cv2.contourArea(max(contours, key= cv2.contourArea))>noise:\n",
    "        \n",
    "        c =max(contours, key=cv2.contourArea)\n",
    "        \n",
    "        x,y,w,h =cv2.boundingRect(c)\n",
    "        area= cv2.contourArea(c)\n",
    "        \n",
    "        if x1==0 and y1==0:\n",
    "            x1,y1=x,y\n",
    "        else:\n",
    "            if switch=='Pen':\n",
    "                write_on= cv2.line(write_on,(x1,y1),(x,y),[255,0,0],4)\n",
    "            else:\n",
    "                cv2.circle(write_on, (x2,y2),20,(0,0,0),-1)\n",
    "                \n",
    "        x1,y1 = x,y\n",
    "        \n",
    "        if area>wiper_thresh:\n",
    "            cv2.putText(write_on,\"Clearing Canvas\",(0,200),\n",
    "                        cv2.FONT_HERSHEY_SIMPLEX,2, (0,0,255), 1, cv2.LINE_AA)\n",
    "            clear =True\n",
    "    else:\n",
    "        x1,y1 =0,0\n",
    "    _, mask = cv2.threshold(cv2.cvtColor(write_on,cv2.COLOR_BGR2GRAY),20,255, cv2.THRESH_BINARY)\n",
    "    foreground = cv2.bitwise_and(write_on, write_on, mask=mask)\n",
    "    background = cv2.bitwise_and(frame, frame, mask = cv2.bitwise_not(mask))\n",
    "    frame = cv2.add(foreground, background) # Now we add both frame and the canvas where we wrote the thing\n",
    "    \n",
    "    if switch!='Pen':\n",
    "        cv2.circle(frame, (x1, y1), 20, (255,255,255), -1)\n",
    "        frame[0: 50, 0: 50] = eraser #image of eraser\n",
    "    else:\n",
    "        frame[0: 50, 0: 50] = pen #image of pen\n",
    "\n",
    "        \n",
    "        \n",
    "    cv2.imshow('image',frame)\n",
    "    k = cv2.waitKey(1)& 0xFF\n",
    "    if k==27:\n",
    "        break\n",
    "    if clear ==True:\n",
    "        time.sleep(1)\n",
    "        write_on=None\n",
    "        clear =False\n",
    "    if k == ord('c'):\n",
    "        write_on = None #after you press c all the written thing will vanish\n",
    "\n",
    "cv2.destroyAllWindows()\n",
    "cap.release()"
   ]
  },
  {
   "cell_type": "code",
   "execution_count": null,
   "metadata": {},
   "outputs": [],
   "source": []
  }
 ],
 "metadata": {
  "kernelspec": {
   "display_name": "Python 3",
   "language": "python",
   "name": "python3"
  },
  "language_info": {
   "codemirror_mode": {
    "name": "ipython",
    "version": 3
   },
   "file_extension": ".py",
   "mimetype": "text/x-python",
   "name": "python",
   "nbconvert_exporter": "python",
   "pygments_lexer": "ipython3",
   "version": "3.7.6"
  }
 },
 "nbformat": 4,
 "nbformat_minor": 4
}
